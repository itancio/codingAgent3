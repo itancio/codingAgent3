{
 "cells": [
  {
   "cell_type": "markdown",
   "id": "39eeb1e3",
   "metadata": {},
   "source": [
    "# Sample Notebook\n",
    "This is a markdown cell for testing purposes."
   ]
  },
  {
   "cell_type": "code",
   "execution_count": null,
   "id": "f51ce14a",
   "metadata": {},
   "outputs": [],
   "source": [
    "def add(a, b):\n",
    "    return a + b"
   ]
  },
  {
   "cell_type": "markdown",
   "id": "1eb89d0e",
   "metadata": {},
   "source": [
    "## Another Markdown Cell\n",
    "This is another markdown cell."
   ]
  },
  {
   "cell_type": "code",
   "execution_count": null,
   "id": "9f7dc721",
   "metadata": {},
   "outputs": [],
   "source": [
    "print(add(2, 3))"
   ]
  }
 ],
 "metadata": {
  "kernelspec": {
   "display_name": "Python 3",
   "language": "python",
   "name": "python3"
  },
  "language_info": {
   "codemirror_mode": {
    "name": "ipython",
    "version": 3
   },
   "file_extension": ".py",
   "mimetype": "text/x-python",
   "name": "python",
   "nbconvert_exporter": "python",
   "pygments_lexer": "ipython3",
   "version": "3.8.8"
  }
 },
 "nbformat": 4,
 "nbformat_minor": 5
}
